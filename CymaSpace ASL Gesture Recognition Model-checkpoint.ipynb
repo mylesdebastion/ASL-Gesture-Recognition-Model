{
 "cells": [
  {
   "cell_type": "markdown",
   "id": "2fbb9f29-0ec9-4c67-b03a-86721d17b607",
   "metadata": {
    "tags": []
   },
   "source": [
    "1. Import and Install Dependencies\n",
    "\n",
    "\n"
   ]
  },
  {
   "cell_type": "code",
   "execution_count": 7,
   "id": "78bb721f-e5a5-4d93-a0b0-a8602106c862",
   "metadata": {
    "collapsed": true,
    "jupyter": {
     "outputs_hidden": true
    },
    "tags": []
   },
   "outputs": [
    {
     "name": "stdout",
     "output_type": "stream",
     "text": [
      "Requirement already satisfied: tensorflow==2.10.1 in c:\\users\\myles\\appdata\\local\\programs\\python\\python39\\lib\\site-packages (2.10.1)\n",
      "Requirement already satisfied: tensorflow-gpu==2.10.1 in c:\\users\\myles\\appdata\\local\\programs\\python\\python39\\lib\\site-packages (2.10.1)\n",
      "Requirement already satisfied: opencv-python in c:\\users\\myles\\appdata\\local\\programs\\python\\python39\\lib\\site-packages (4.7.0.72)\n",
      "Requirement already satisfied: mediapipe in c:\\users\\myles\\appdata\\local\\programs\\python\\python39\\lib\\site-packages (0.9.1.0)\n",
      "Requirement already satisfied: sklearn in c:\\users\\myles\\appdata\\local\\programs\\python\\python39\\lib\\site-packages (0.0.post1)\n",
      "Requirement already satisfied: matplotlib in c:\\users\\myles\\appdata\\local\\programs\\python\\python39\\lib\\site-packages (3.7.1)\n",
      "Requirement already satisfied: grpcio<2.0,>=1.24.3 in c:\\users\\myles\\appdata\\local\\programs\\python\\python39\\lib\\site-packages (from tensorflow==2.10.1) (1.51.3)\n",
      "Requirement already satisfied: flatbuffers>=2.0 in c:\\users\\myles\\appdata\\local\\programs\\python\\python39\\lib\\site-packages (from tensorflow==2.10.1) (23.3.3)\n",
      "Requirement already satisfied: six>=1.12.0 in c:\\users\\myles\\appdata\\local\\programs\\python\\python39\\lib\\site-packages (from tensorflow==2.10.1) (1.16.0)\n",
      "Requirement already satisfied: termcolor>=1.1.0 in c:\\users\\myles\\appdata\\local\\programs\\python\\python39\\lib\\site-packages (from tensorflow==2.10.1) (2.2.0)\n",
      "Requirement already satisfied: astunparse>=1.6.0 in c:\\users\\myles\\appdata\\local\\programs\\python\\python39\\lib\\site-packages (from tensorflow==2.10.1) (1.6.3)\n",
      "Requirement already satisfied: h5py>=2.9.0 in c:\\users\\myles\\appdata\\local\\programs\\python\\python39\\lib\\site-packages (from tensorflow==2.10.1) (3.8.0)\n",
      "Requirement already satisfied: numpy>=1.20 in c:\\users\\myles\\appdata\\local\\programs\\python\\python39\\lib\\site-packages (from tensorflow==2.10.1) (1.23.4)\n",
      "Requirement already satisfied: setuptools in c:\\users\\myles\\appdata\\local\\programs\\python\\python39\\lib\\site-packages (from tensorflow==2.10.1) (49.2.1)\n",
      "Requirement already satisfied: keras<2.11,>=2.10.0 in c:\\users\\myles\\appdata\\local\\programs\\python\\python39\\lib\\site-packages (from tensorflow==2.10.1) (2.10.0)\n",
      "Requirement already satisfied: tensorflow-estimator<2.11,>=2.10.0 in c:\\users\\myles\\appdata\\local\\programs\\python\\python39\\lib\\site-packages (from tensorflow==2.10.1) (2.10.0)\n",
      "Requirement already satisfied: typing-extensions>=3.6.6 in c:\\users\\myles\\appdata\\local\\programs\\python\\python39\\lib\\site-packages (from tensorflow==2.10.1) (4.4.0)\n",
      "Requirement already satisfied: google-pasta>=0.1.1 in c:\\users\\myles\\appdata\\local\\programs\\python\\python39\\lib\\site-packages (from tensorflow==2.10.1) (0.2.0)\n",
      "Requirement already satisfied: absl-py>=1.0.0 in c:\\users\\myles\\appdata\\local\\programs\\python\\python39\\lib\\site-packages (from tensorflow==2.10.1) (1.4.0)\n",
      "Requirement already satisfied: opt-einsum>=2.3.2 in c:\\users\\myles\\appdata\\local\\programs\\python\\python39\\lib\\site-packages (from tensorflow==2.10.1) (3.3.0)\n",
      "Requirement already satisfied: protobuf<3.20,>=3.9.2 in c:\\users\\myles\\appdata\\local\\programs\\python\\python39\\lib\\site-packages (from tensorflow==2.10.1) (3.19.6)\n",
      "Requirement already satisfied: wrapt>=1.11.0 in c:\\users\\myles\\appdata\\local\\programs\\python\\python39\\lib\\site-packages (from tensorflow==2.10.1) (1.15.0)\n",
      "Requirement already satisfied: tensorboard<2.11,>=2.10 in c:\\users\\myles\\appdata\\local\\programs\\python\\python39\\lib\\site-packages (from tensorflow==2.10.1) (2.10.1)\n",
      "Requirement already satisfied: packaging in c:\\users\\myles\\appdata\\local\\programs\\python\\python39\\lib\\site-packages (from tensorflow==2.10.1) (23.0)\n",
      "Requirement already satisfied: libclang>=13.0.0 in c:\\users\\myles\\appdata\\local\\programs\\python\\python39\\lib\\site-packages (from tensorflow==2.10.1) (15.0.6.1)\n",
      "Requirement already satisfied: tensorflow-io-gcs-filesystem>=0.23.1 in c:\\users\\myles\\appdata\\local\\programs\\python\\python39\\lib\\site-packages (from tensorflow==2.10.1) (0.31.0)\n",
      "Requirement already satisfied: gast<=0.4.0,>=0.2.1 in c:\\users\\myles\\appdata\\local\\programs\\python\\python39\\lib\\site-packages (from tensorflow==2.10.1) (0.4.0)\n",
      "Requirement already satisfied: keras-preprocessing>=1.1.1 in c:\\users\\myles\\appdata\\local\\programs\\python\\python39\\lib\\site-packages (from tensorflow==2.10.1) (1.1.2)\n",
      "Requirement already satisfied: opencv-contrib-python in c:\\users\\myles\\appdata\\local\\programs\\python\\python39\\lib\\site-packages (from mediapipe) (4.7.0.72)\n",
      "Requirement already satisfied: attrs>=19.1.0 in c:\\users\\myles\\appdata\\local\\programs\\python\\python39\\lib\\site-packages (from mediapipe) (22.2.0)\n",
      "Requirement already satisfied: cycler>=0.10 in c:\\users\\myles\\appdata\\local\\programs\\python\\python39\\lib\\site-packages (from matplotlib) (0.11.0)\n",
      "Requirement already satisfied: pillow>=6.2.0 in c:\\users\\myles\\appdata\\local\\programs\\python\\python39\\lib\\site-packages (from matplotlib) (9.3.0)\n",
      "Requirement already satisfied: pyparsing>=2.3.1 in c:\\users\\myles\\appdata\\local\\programs\\python\\python39\\lib\\site-packages (from matplotlib) (3.0.9)\n",
      "Requirement already satisfied: contourpy>=1.0.1 in c:\\users\\myles\\appdata\\local\\programs\\python\\python39\\lib\\site-packages (from matplotlib) (1.0.7)\n",
      "Requirement already satisfied: python-dateutil>=2.7 in c:\\users\\myles\\appdata\\local\\programs\\python\\python39\\lib\\site-packages (from matplotlib) (2.8.2)\n",
      "Requirement already satisfied: kiwisolver>=1.0.1 in c:\\users\\myles\\appdata\\local\\programs\\python\\python39\\lib\\site-packages (from matplotlib) (1.4.4)\n",
      "Requirement already satisfied: fonttools>=4.22.0 in c:\\users\\myles\\appdata\\local\\programs\\python\\python39\\lib\\site-packages (from matplotlib) (4.39.0)\n",
      "Requirement already satisfied: importlib-resources>=3.2.0 in c:\\users\\myles\\appdata\\local\\programs\\python\\python39\\lib\\site-packages (from matplotlib) (5.12.0)\n",
      "Requirement already satisfied: wheel<1.0,>=0.23.0 in c:\\users\\myles\\appdata\\local\\programs\\python\\python39\\lib\\site-packages (from astunparse>=1.6.0->tensorflow==2.10.1) (0.38.3)\n",
      "Requirement already satisfied: zipp>=3.1.0 in c:\\users\\myles\\appdata\\local\\programs\\python\\python39\\lib\\site-packages (from importlib-resources>=3.2.0->matplotlib) (3.15.0)\n",
      "Requirement already satisfied: google-auth-oauthlib<0.5,>=0.4.1 in c:\\users\\myles\\appdata\\local\\programs\\python\\python39\\lib\\site-packages (from tensorboard<2.11,>=2.10->tensorflow==2.10.1) (0.4.6)\n",
      "Requirement already satisfied: google-auth<3,>=1.6.3 in c:\\users\\myles\\appdata\\local\\programs\\python\\python39\\lib\\site-packages (from tensorboard<2.11,>=2.10->tensorflow==2.10.1) (2.16.2)\n",
      "Requirement already satisfied: tensorboard-data-server<0.7.0,>=0.6.0 in c:\\users\\myles\\appdata\\local\\programs\\python\\python39\\lib\\site-packages (from tensorboard<2.11,>=2.10->tensorflow==2.10.1) (0.6.1)\n",
      "Requirement already satisfied: requests<3,>=2.21.0 in c:\\users\\myles\\appdata\\local\\programs\\python\\python39\\lib\\site-packages (from tensorboard<2.11,>=2.10->tensorflow==2.10.1) (2.28.2)\n",
      "Requirement already satisfied: werkzeug>=1.0.1 in c:\\users\\myles\\appdata\\local\\programs\\python\\python39\\lib\\site-packages (from tensorboard<2.11,>=2.10->tensorflow==2.10.1) (2.2.3)\n",
      "Requirement already satisfied: tensorboard-plugin-wit>=1.6.0 in c:\\users\\myles\\appdata\\local\\programs\\python\\python39\\lib\\site-packages (from tensorboard<2.11,>=2.10->tensorflow==2.10.1) (1.8.1)\n",
      "Requirement already satisfied: markdown>=2.6.8 in c:\\users\\myles\\appdata\\local\\programs\\python\\python39\\lib\\site-packages (from tensorboard<2.11,>=2.10->tensorflow==2.10.1) (3.4.1)\n",
      "Requirement already satisfied: pyasn1-modules>=0.2.1 in c:\\users\\myles\\appdata\\local\\programs\\python\\python39\\lib\\site-packages (from google-auth<3,>=1.6.3->tensorboard<2.11,>=2.10->tensorflow==2.10.1) (0.2.8)\n",
      "Requirement already satisfied: cachetools<6.0,>=2.0.0 in c:\\users\\myles\\appdata\\local\\programs\\python\\python39\\lib\\site-packages (from google-auth<3,>=1.6.3->tensorboard<2.11,>=2.10->tensorflow==2.10.1) (5.3.0)\n",
      "Requirement already satisfied: rsa<5,>=3.1.4 in c:\\users\\myles\\appdata\\local\\programs\\python\\python39\\lib\\site-packages (from google-auth<3,>=1.6.3->tensorboard<2.11,>=2.10->tensorflow==2.10.1) (4.9)\n",
      "Requirement already satisfied: requests-oauthlib>=0.7.0 in c:\\users\\myles\\appdata\\local\\programs\\python\\python39\\lib\\site-packages (from google-auth-oauthlib<0.5,>=0.4.1->tensorboard<2.11,>=2.10->tensorflow==2.10.1) (1.3.1)\n",
      "Requirement already satisfied: importlib-metadata>=4.4 in c:\\users\\myles\\appdata\\local\\programs\\python\\python39\\lib\\site-packages (from markdown>=2.6.8->tensorboard<2.11,>=2.10->tensorflow==2.10.1) (6.0.0)\n",
      "Requirement already satisfied: certifi>=2017.4.17 in c:\\users\\myles\\appdata\\local\\programs\\python\\python39\\lib\\site-packages (from requests<3,>=2.21.0->tensorboard<2.11,>=2.10->tensorflow==2.10.1) (2020.12.5)\n",
      "Requirement already satisfied: urllib3<1.27,>=1.21.1 in c:\\users\\myles\\appdata\\local\\programs\\python\\python39\\lib\\site-packages (from requests<3,>=2.21.0->tensorboard<2.11,>=2.10->tensorflow==2.10.1) (1.26.3)\n",
      "Requirement already satisfied: idna<4,>=2.5 in c:\\users\\myles\\appdata\\local\\programs\\python\\python39\\lib\\site-packages (from requests<3,>=2.21.0->tensorboard<2.11,>=2.10->tensorflow==2.10.1) (2.10)\n",
      "Requirement already satisfied: charset-normalizer<4,>=2 in c:\\users\\myles\\appdata\\local\\programs\\python\\python39\\lib\\site-packages (from requests<3,>=2.21.0->tensorboard<2.11,>=2.10->tensorflow==2.10.1) (3.1.0)\n",
      "Requirement already satisfied: MarkupSafe>=2.1.1 in c:\\users\\myles\\appdata\\local\\programs\\python\\python39\\lib\\site-packages (from werkzeug>=1.0.1->tensorboard<2.11,>=2.10->tensorflow==2.10.1) (2.1.2)\n",
      "Requirement already satisfied: pyasn1<0.5.0,>=0.4.6 in c:\\users\\myles\\appdata\\local\\programs\\python\\python39\\lib\\site-packages (from pyasn1-modules>=0.2.1->google-auth<3,>=1.6.3->tensorboard<2.11,>=2.10->tensorflow==2.10.1) (0.4.8)\n",
      "Requirement already satisfied: oauthlib>=3.0.0 in c:\\users\\myles\\appdata\\local\\programs\\python\\python39\\lib\\site-packages (from requests-oauthlib>=0.7.0->google-auth-oauthlib<0.5,>=0.4.1->tensorboard<2.11,>=2.10->tensorflow==2.10.1) (3.2.2)\n"
     ]
    }
   ],
   "source": [
    "!pip install tensorflow==2.10.1 tensorflow-gpu==2.10.1 opencv-python mediapipe sklearn matplotlib"
   ]
  },
  {
   "cell_type": "code",
   "execution_count": null,
   "id": "10e44daf-63fb-4b6f-98e0-bb880c60a019",
   "metadata": {
    "tags": []
   },
   "outputs": [],
   "source": [
    "import tensorflow as tf\n",
    "import cv2\n",
    "import mediapipe as mp\n",
    "import sklearn\n",
    "import matplotlib\n",
    "\n",
    "print(f\"TensorFlow version: {tf.__version__}\")\n",
    "print(f\"OpenCV version: {cv2.__version__}\")\n",
    "print(f\"MediaPipe version: {mp.__version__}\")\n",
    "print(f\"Scikit-learn version: {sklearn.__version__}\")\n",
    "print(f\"Matplotlib version: {matplotlib.__version__}\")\n"
   ]
  },
  {
   "cell_type": "code",
   "execution_count": null,
   "id": "b1fae851-9f3f-4199-9fe4-3cf9f1873ea0",
   "metadata": {},
   "outputs": [],
   "source": [
    "2. Keypoints using MP Holistic"
   ]
  },
  {
   "cell_type": "code",
   "execution_count": 9,
   "id": "e5defc25-8ae1-4e8a-9e32-f8d5835dc3e8",
   "metadata": {
    "tags": []
   },
   "outputs": [
    {
     "data": {
      "text/plain": [
       "'C:\\\\Windows\\\\system32'"
      ]
     },
     "execution_count": 9,
     "metadata": {},
     "output_type": "execute_result"
    }
   ],
   "source": [
    "pwd"
   ]
  },
  {
   "cell_type": "code",
   "execution_count": null,
   "id": "74040784-a3cb-4b3b-9a8b-1767f0685185",
   "metadata": {},
   "outputs": [],
   "source": []
  }
 ],
 "metadata": {
  "kernelspec": {
   "display_name": "Python 3 (ipykernel)",
   "language": "python",
   "name": "python3"
  },
  "language_info": {
   "codemirror_mode": {
    "name": "ipython",
    "version": 3
   },
   "file_extension": ".py",
   "mimetype": "text/x-python",
   "name": "python",
   "nbconvert_exporter": "python",
   "pygments_lexer": "ipython3",
   "version": "3.9.2"
  }
 },
 "nbformat": 4,
 "nbformat_minor": 5
}
